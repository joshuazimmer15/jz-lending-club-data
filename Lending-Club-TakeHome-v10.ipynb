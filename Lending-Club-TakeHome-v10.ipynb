{
 "cells": [
  {
   "cell_type": "code",
   "execution_count": 1,
   "metadata": {},
   "outputs": [],
   "source": [
    "import pandas as pd\n",
    "import numpy as np\n",
    "from sklearn.linear_model import LinearRegression\n",
    "from sklearn.linear_model import LogisticRegression\n",
    "from sklearn.model_selection import train_test_split\n",
    "import statsmodels.api as sm\n",
    "import matplotlib.pyplot as plt\n",
    "# from IPython.display import display"
   ]
  },
  {
   "cell_type": "code",
   "execution_count": 2,
   "metadata": {},
   "outputs": [],
   "source": [
    "#### Kaggle Website Data Description: (https://www.kaggle.com/wendykan/lending-club-loan-data)\n",
    "\n",
    "# Update on 2019-03-18 — \"Updating files until end of 2018\"\n",
    "\n",
    "# Resulting Assumption — This 2007-2018 data represents \"present\" data as of 11:59 PM on December 31, 2018.\n",
    "#                        Therefore, any loans originating after Dec. 2015 have less than\n",
    "#                        36 months of data and should be excluded in Pt. 2 & Pt. 3.\n",
    "\n",
    "\n",
    "# Original Description:\n",
    "\n",
    "# These files contain complete loan data for all loans issued through the 2007-2015,\n",
    "# including the current loan status (Current, Late, Fully Paid, etc.) and latest\n",
    "# payment information. The file containing loan data through the \"present\" contains\n",
    "# complete loan data for all loans issued through the previous completed calendar quarter."
   ]
  },
  {
   "cell_type": "code",
   "execution_count": 3,
   "metadata": {},
   "outputs": [],
   "source": [
    "# Note: Comments = Data dictionary field descriptions from './LCDataDictionary.xlsx' > LoanStats\n",
    "\n",
    "rel_fields = [\n",
    "              'loan_amnt',     # — The listed amount of the loan applied for by the borrower.\n",
    "                               #   If at some point in time, the credit department reduces the\n",
    "                               #   loan amount, then it will be reflected in this value.\n",
    "\n",
    "              'funded_amnt',   # — The total amount committed to that loan at that point in\n",
    "                               #   time.\n",
    "\n",
    "              'term',          # — The number of payments on the loan. Values are in months\n",
    "                               #   and can be either 36 or 60.\n",
    "\n",
    "              'int_rate',      # — Interest Rate on the loan\n",
    "    \n",
    "              'grade',         # — LC [Lending Club] assigned loan grade\n",
    "    \n",
    "              'annual_inc',    # — The self-reported annual income provided by the borrower\n",
    "                               #   during registration.\n",
    "\n",
    "              'issue_d',       # — The month which the loan was funded\n",
    "    \n",
    "              'dti',           # — A ratio calculated using the borrower’s total monthly debt\n",
    "                               #   payments on the total debt obligations, excluding mortgage\n",
    "                               #   and the requested LC loan, divided by the borrower’s\n",
    "                               #   self-reported monthly income.\n",
    "    \n",
    "              'revol_bal',     # — Total credit revolving balance\n",
    "\n",
    "              'total_pymnt',   # — Payments received to date for total amount funded\n",
    "\n",
    "              'loan_status'    # — Current status of the loan\n",
    "    \n",
    "             ]\n"
   ]
  },
  {
   "cell_type": "code",
   "execution_count": 4,
   "metadata": {},
   "outputs": [],
   "source": [
    "#### Load loan data:\n",
    "raw_input = pd.read_csv('./loan.csv', usecols=rel_fields)\n",
    "cln_input = raw_input.copy()"
   ]
  },
  {
   "cell_type": "code",
   "execution_count": 5,
   "metadata": {},
   "outputs": [],
   "source": [
    "# #### Convert term into an integer:\n",
    "# cln_input['term'] = cln_input['term'].str.strip().str.replace(' months','').astype(int)"
   ]
  },
  {
   "cell_type": "code",
   "execution_count": 6,
   "metadata": {},
   "outputs": [],
   "source": [
    "#### Create grade_num for logistic regression (might use one_hot instead)\n",
    "grade_dict = {'A':0,'B':1,'C':2,'D':3,'E':4,'F':5,'G':6}\n",
    "cln_input['grade_num'] = cln_input['grade'].map(grade_dict)"
   ]
  },
  {
   "cell_type": "code",
   "execution_count": 7,
   "metadata": {},
   "outputs": [],
   "source": [
    "#### Break issue date into months & years\n",
    "cln_input[['issue_d_month_raw','issue_d_year']] = cln_input['issue_d'].str.split('-',expand=True).astype(str)\n",
    "\n",
    "\n",
    "\n",
    "#### Add month numbers to month strings for easy sorting\n",
    "month_list = ['Jan','Feb','Mar','Apr','May','Jun','Jul','Aug','Sep','Oct','Nov','Dec']\n",
    "month_dict = {}\n",
    "for im,month in enumerate(month_list):\n",
    "    im_str = str(im+1) if len(str(im+1)) >= 2 else '0'+str(im+1)\n",
    "    month_dict[month] = im_str+'-'+month\n",
    "cln_input['issue_d_month'] = cln_input['issue_d_month_raw'].map(month_dict)\n",
    "cln_input['issue_d_month_num'] = cln_input['issue_d_month'].str.slice(stop=2)\n",
    "\n",
    "#### Create numerical YYYYMM date for easy chronological sorting\n",
    "cln_input['issue_d_num'] = (cln_input['issue_d_year'].astype(str)+cln_input['issue_d_month_num']).astype(int)\n",
    "\n",
    "#### Create numerical month column for regression (might use one_hot instead)\n",
    "cln_input['issue_d_month_num'] = cln_input['issue_d_month_num'].astype(int)\n",
    "\n",
    "cln_input = cln_input.drop('issue_d_month_raw',axis=1).sort_values('issue_d_num',ascending=True).reset_index(drop=True)"
   ]
  },
  {
   "cell_type": "code",
   "execution_count": 8,
   "metadata": {},
   "outputs": [],
   "source": [
    "#### Convert \"Does not meet the credit policy. Status:___\" loan_status flags to the text after \"Status:\".\n",
    "cln_input['credit_pol_flg'] = 1.0\n",
    "cln_input.loc[cln_input['loan_status'].str.contains('Does not meet the credit policy'),'credit_pol_flg'] = 0.0\n",
    "cln_input['loan_status'] = cln_input['loan_status'].str.split(':').apply(lambda x: x[-1])\n",
    "\n",
    "#### Create \"loan status revised\" column — combining [\"In Grace Period\", \"Late 16-30\", & \"Late 31-120\"] into \"Late\"\n",
    "cln_input['loan_status_rev'] = cln_input['loan_status']\n",
    "\n",
    "\n",
    "#### Grouping \"Late\" loan_status flags together and creating a lateness flag\n",
    "cln_input['lateness'] = 0.0\n",
    "cln_input.loc[cln_input['loan_status'].str.contains('Fully Paid'),'lateness'] = -1.0\n",
    "cln_input.loc[cln_input['loan_status'].str.contains('In Grace Period'),'lateness'] = 1.0\n",
    "cln_input.loc[cln_input['loan_status'].str.contains('Late'),'lateness'] = 2.0\n",
    "cln_input.loc[(cln_input['loan_status'].str.contains('Late'))&(cln_input['loan_status'].str.contains('120 days')),'lateness'] = 3.0\n",
    "\n",
    "cln_input.loc[(cln_input['loan_status'].str.contains('Default')),'lateness'] = 4.0\n",
    "cln_input.loc[(cln_input['loan_status'].str.contains('Charged Off')),'lateness'] = 5.0\n",
    "\n",
    "cln_input.loc[cln_input['loan_status'].str.contains('Late'),'loan_status_rev'] = 'Late'\n",
    "cln_input.loc[cln_input['loan_status'].str.contains('In Grace Period'),'loan_status_rev'] = 'Late'\n",
    "\n",
    "# 'lateness' Dictionary:\n",
    "#    -1 = Fully Paid\n",
    "#     0 = Current\n",
    "#     1 = In Grace Period (0-15 days)\n",
    "#     2 = Late (16-30 days)\n",
    "#     3 = Late (31-120 days)\n",
    "#     4 = Default\n",
    "#     5 = Charged Off"
   ]
  },
  {
   "cell_type": "code",
   "execution_count": 9,
   "metadata": {},
   "outputs": [],
   "source": [
    "#################################################\n",
    "#### PART 1: Data Exploration and Evaluation ####\n",
    "#################################################\n",
    "#\n",
    "# Assumptions:\n",
    "# 1. Each row is a single unique loan (i.e. there are no duplicate rows for the same loan)\n",
    "# 2. Each loan is independent — a default on one does not affect the likelihood of a default on another.\n",
    "#    (e.g. multiple loans do not belong to the same person since one of their defaults would increase the\n",
    "#    likelihood of a second default.)\n",
    "# 3. The loan amount & funded amount represent requested and paid amounts respectively.\n",
    "# 4. Column: loan_status — \"Does not meet the credit policy. Status:...\" can be simplified to just the word(s) after \"Status\"\n",
    "# 5. According to Lending Club on 2007/12/09 — https://blog.lendingclub.com/responsible-lending-better-returns/\n",
    "#    \"Lending Club maintains very high standards to list a loan, with...a maximum DTI of 30% required.\"\n",
    "#    Thus, assuming that any DTI above 30% is invalid.\n",
    "# 6. Lending Club requires income verification — https://help.lendingclub.com/hc/en-us/articles/214502877\n",
    "#    Assumption(s): Income is reported prior to origination. Loan recipients must have a non-zero income.\n",
    "#    Thus, loans with 0 annual_inc are simply missing data.\n",
    "\n",
    "pt1_drop_cols = ['loan_status_rev','issue_d','issue_d_month_num','grade_num','credit_pol_flg']\n"
   ]
  },
  {
   "cell_type": "code",
   "execution_count": 10,
   "metadata": {},
   "outputs": [
    {
     "data": {
      "text/html": [
       "<div>\n",
       "<style scoped>\n",
       "    .dataframe tbody tr th:only-of-type {\n",
       "        vertical-align: middle;\n",
       "    }\n",
       "\n",
       "    .dataframe tbody tr th {\n",
       "        vertical-align: top;\n",
       "    }\n",
       "\n",
       "    .dataframe thead th {\n",
       "        text-align: right;\n",
       "    }\n",
       "</style>\n",
       "<table border=\"1\" class=\"dataframe\">\n",
       "  <thead>\n",
       "    <tr style=\"text-align: right;\">\n",
       "      <th></th>\n",
       "      <th>loan_amnt</th>\n",
       "      <th>funded_amnt</th>\n",
       "      <th>int_rate</th>\n",
       "      <th>annual_inc</th>\n",
       "      <th>dti</th>\n",
       "      <th>revol_bal</th>\n",
       "      <th>total_pymnt</th>\n",
       "      <th>issue_d_num</th>\n",
       "      <th>lateness</th>\n",
       "    </tr>\n",
       "  </thead>\n",
       "  <tbody>\n",
       "    <tr>\n",
       "      <td>count</td>\n",
       "      <td>2260668.00</td>\n",
       "      <td>2260668.00</td>\n",
       "      <td>2260668.00</td>\n",
       "      <td>2260664.00</td>\n",
       "      <td>2258957.00</td>\n",
       "      <td>2260668.00</td>\n",
       "      <td>2260668.00</td>\n",
       "      <td>2260668.00</td>\n",
       "      <td>2260668.00</td>\n",
       "    </tr>\n",
       "    <tr>\n",
       "      <td>mean</td>\n",
       "      <td>15046.93</td>\n",
       "      <td>15041.66</td>\n",
       "      <td>13.09</td>\n",
       "      <td>77992.43</td>\n",
       "      <td>18.82</td>\n",
       "      <td>16658.46</td>\n",
       "      <td>11824.03</td>\n",
       "      <td>201592.53</td>\n",
       "      <td>0.15</td>\n",
       "    </tr>\n",
       "    <tr>\n",
       "      <td>std</td>\n",
       "      <td>9190.25</td>\n",
       "      <td>9188.41</td>\n",
       "      <td>4.83</td>\n",
       "      <td>112696.20</td>\n",
       "      <td>14.18</td>\n",
       "      <td>22948.31</td>\n",
       "      <td>9889.60</td>\n",
       "      <td>179.13</td>\n",
       "      <td>1.85</td>\n",
       "    </tr>\n",
       "    <tr>\n",
       "      <td>min</td>\n",
       "      <td>500.00</td>\n",
       "      <td>500.00</td>\n",
       "      <td>5.31</td>\n",
       "      <td>0.00</td>\n",
       "      <td>-1.00</td>\n",
       "      <td>0.00</td>\n",
       "      <td>0.00</td>\n",
       "      <td>200706.00</td>\n",
       "      <td>-1.00</td>\n",
       "    </tr>\n",
       "    <tr>\n",
       "      <td>25%</td>\n",
       "      <td>8000.00</td>\n",
       "      <td>8000.00</td>\n",
       "      <td>9.49</td>\n",
       "      <td>46000.00</td>\n",
       "      <td>11.89</td>\n",
       "      <td>5950.00</td>\n",
       "      <td>4272.58</td>\n",
       "      <td>201504.00</td>\n",
       "      <td>-1.00</td>\n",
       "    </tr>\n",
       "    <tr>\n",
       "      <td>50%</td>\n",
       "      <td>12900.00</td>\n",
       "      <td>12875.00</td>\n",
       "      <td>12.62</td>\n",
       "      <td>65000.00</td>\n",
       "      <td>17.84</td>\n",
       "      <td>11324.00</td>\n",
       "      <td>9060.87</td>\n",
       "      <td>201607.00</td>\n",
       "      <td>0.00</td>\n",
       "    </tr>\n",
       "    <tr>\n",
       "      <td>75%</td>\n",
       "      <td>20000.00</td>\n",
       "      <td>20000.00</td>\n",
       "      <td>15.99</td>\n",
       "      <td>93000.00</td>\n",
       "      <td>24.49</td>\n",
       "      <td>20246.00</td>\n",
       "      <td>16707.97</td>\n",
       "      <td>201711.00</td>\n",
       "      <td>0.00</td>\n",
       "    </tr>\n",
       "    <tr>\n",
       "      <td>max</td>\n",
       "      <td>40000.00</td>\n",
       "      <td>40000.00</td>\n",
       "      <td>30.99</td>\n",
       "      <td>110000000.00</td>\n",
       "      <td>999.00</td>\n",
       "      <td>2904836.00</td>\n",
       "      <td>63296.88</td>\n",
       "      <td>201812.00</td>\n",
       "      <td>5.00</td>\n",
       "    </tr>\n",
       "  </tbody>\n",
       "</table>\n",
       "</div>"
      ],
      "text/plain": [
       "       loan_amnt  funded_amnt   int_rate   annual_inc        dti  revol_bal  \\\n",
       "count 2260668.00   2260668.00 2260668.00   2260664.00 2258957.00 2260668.00   \n",
       "mean    15046.93     15041.66      13.09     77992.43      18.82   16658.46   \n",
       "std      9190.25      9188.41       4.83    112696.20      14.18   22948.31   \n",
       "min       500.00       500.00       5.31         0.00      -1.00       0.00   \n",
       "25%      8000.00      8000.00       9.49     46000.00      11.89    5950.00   \n",
       "50%     12900.00     12875.00      12.62     65000.00      17.84   11324.00   \n",
       "75%     20000.00     20000.00      15.99     93000.00      24.49   20246.00   \n",
       "max     40000.00     40000.00      30.99 110000000.00     999.00 2904836.00   \n",
       "\n",
       "       total_pymnt  issue_d_num   lateness  \n",
       "count   2260668.00   2260668.00 2260668.00  \n",
       "mean      11824.03    201592.53       0.15  \n",
       "std        9889.60       179.13       1.85  \n",
       "min           0.00    200706.00      -1.00  \n",
       "25%        4272.58    201504.00      -1.00  \n",
       "50%        9060.87    201607.00       0.00  \n",
       "75%       16707.97    201711.00       0.00  \n",
       "max       63296.88    201812.00       5.00  "
      ]
     },
     "metadata": {},
     "output_type": "display_data"
    }
   ],
   "source": [
    "with pd.option_context('display.float_format', lambda x: '%.2f' % x):\n",
    "    display(cln_input.drop(pt1_drop_cols,axis=1).describe())"
   ]
  },
  {
   "cell_type": "code",
   "execution_count": 11,
   "metadata": {
    "scrolled": true
   },
   "outputs": [
    {
     "name": "stdout",
     "output_type": "stream",
     "text": [
      "Num Loans: 2260668 \n",
      "\n",
      "Percent missing...\n"
     ]
    },
    {
     "data": {
      "text/plain": [
       "loan_amnt        0.000000\n",
       "funded_amnt      0.000000\n",
       "term             0.000000\n",
       "int_rate         0.000000\n",
       "grade            0.000000\n",
       "annual_inc       0.000002\n",
       "loan_status      0.000000\n",
       "dti              0.000757\n",
       "revol_bal        0.000000\n",
       "total_pymnt      0.000000\n",
       "issue_d_year     0.000000\n",
       "issue_d_month    0.000000\n",
       "issue_d_num      0.000000\n",
       "lateness         0.000000\n",
       "dtype: float64"
      ]
     },
     "metadata": {},
     "output_type": "display_data"
    },
    {
     "name": "stdout",
     "output_type": "stream",
     "text": [
      "Percent with value 0...\n",
      "\n"
     ]
    },
    {
     "data": {
      "text/plain": [
       "loan_amnt        0.000000\n",
       "funded_amnt      0.000000\n",
       "term             0.000000\n",
       "int_rate         0.000000\n",
       "grade            0.000000\n",
       "annual_inc       0.000737\n",
       "loan_status      0.000000\n",
       "dti              0.000766\n",
       "revol_bal        0.005557\n",
       "total_pymnt      0.000446\n",
       "issue_d_year     0.000000\n",
       "issue_d_month    0.000000\n",
       "issue_d_num      0.000000\n",
       "lateness         0.406824\n",
       "dtype: float64"
      ]
     },
     "metadata": {},
     "output_type": "display_data"
    }
   ],
   "source": [
    "data_count = cln_input.shape[0]\n",
    "print('Num Loans:',data_count,'\\n\\nPercent missing...')\n",
    "display((cln_input.drop(pt1_drop_cols,axis=1).isna()*1.0).sum(axis=0)*1.0/data_count)\n",
    "print('Percent with value 0...\\n')\n",
    "display(((cln_input.drop(pt1_drop_cols,axis=1) == 0)*1.0).sum(axis=0)*1.0/data_count)"
   ]
  },
  {
   "cell_type": "code",
   "execution_count": 12,
   "metadata": {},
   "outputs": [
    {
     "data": {
      "text/plain": [
       "<matplotlib.axes._subplots.AxesSubplot at 0x1c5da2bef0>"
      ]
     },
     "execution_count": 12,
     "metadata": {},
     "output_type": "execute_result"
    },
    {
     "data": {
      "image/png": "[encoded data removed]",
      "text/plain": [
       "<Figure size 432x288 with 1 Axes>"
      ]
     },
     "metadata": {
      "needs_background": "light"
     },
     "output_type": "display_data"
    }
   ],
   "source": [
    "cln_input['annual_inc'][cln_input['annual_inc'] < cln_input['annual_inc'].quantile(0.997)].plot(kind='hist')"
   ]
  },
  {
   "cell_type": "code",
   "execution_count": 13,
   "metadata": {},
   "outputs": [],
   "source": [
    "#### Fixes:\n",
    "# By Assumption 6, income == 0 is not possible. Thus, set them to NULL.\n",
    "cln_input.loc[(cln_input['annual_inc'] <= 0),'annual_inc'] = np.nan\n",
    "\n",
    "# Since DTI = Monthly Debt / Monthly Income, with NULL Income, set DTI to NULL\n",
    "cln_input.loc[(~cln_input['dti'].isna())&(cln_input['annual_inc'].isna()),'dti'] = np.nan\n",
    "\n",
    "# By definition, DTI is a positive number. Set all negative DTIs to NULL\n",
    "cln_input.loc[(cln_input['dti'] < 0),'dti'] = np.nan"
   ]
  },
  {
   "cell_type": "code",
   "execution_count": 14,
   "metadata": {},
   "outputs": [
    {
     "name": "stdout",
     "output_type": "stream",
     "text": [
      "Num Loans: 2260668 \n",
      "\n",
      "Percent missing...\n"
     ]
    },
    {
     "data": {
      "text/plain": [
       "loan_amnt        0.000000\n",
       "funded_amnt      0.000000\n",
       "term             0.000000\n",
       "int_rate         0.000000\n",
       "grade            0.000000\n",
       "annual_inc       0.000739\n",
       "loan_status      0.000000\n",
       "dti              0.000763\n",
       "revol_bal        0.000000\n",
       "total_pymnt      0.000000\n",
       "issue_d_year     0.000000\n",
       "issue_d_month    0.000000\n",
       "issue_d_num      0.000000\n",
       "lateness         0.000000\n",
       "dtype: float64"
      ]
     },
     "metadata": {},
     "output_type": "display_data"
    },
    {
     "name": "stdout",
     "output_type": "stream",
     "text": [
      "Percent with value 0...\n",
      "\n"
     ]
    },
    {
     "data": {
      "text/plain": [
       "loan_amnt        0.000000\n",
       "funded_amnt      0.000000\n",
       "term             0.000000\n",
       "int_rate         0.000000\n",
       "grade            0.000000\n",
       "annual_inc       0.000000\n",
       "loan_status      0.000000\n",
       "dti              0.000763\n",
       "revol_bal        0.005557\n",
       "total_pymnt      0.000446\n",
       "issue_d_year     0.000000\n",
       "issue_d_month    0.000000\n",
       "issue_d_num      0.000000\n",
       "lateness         0.406824\n",
       "dtype: float64"
      ]
     },
     "metadata": {},
     "output_type": "display_data"
    }
   ],
   "source": [
    "data_count = cln_input.shape[0]\n",
    "print('Num Loans:',data_count,'\\n\\nPercent missing...')\n",
    "display((cln_input.drop(pt1_drop_cols,axis=1).isna()*1.0).sum(axis=0)*1.0/data_count)\n",
    "print('Percent with value 0...\\n')\n",
    "display(((cln_input.drop(pt1_drop_cols,axis=1) == 0)*1.0).sum(axis=0)*1.0/data_count)"
   ]
  },
  {
   "cell_type": "code",
   "execution_count": 15,
   "metadata": {},
   "outputs": [],
   "source": [
    "#### Fixes:\n",
    "# NULL values make up an insignifcat portion of values and can therefore be safely discarded.\n",
    "cln_input = cln_input.dropna()"
   ]
  },
  {
   "cell_type": "code",
   "execution_count": 16,
   "metadata": {},
   "outputs": [
    {
     "name": "stdout",
     "output_type": "stream",
     "text": [
      "Num Loans: 2258943 \n",
      "\n",
      "Percent missing...\n"
     ]
    },
    {
     "data": {
      "text/plain": [
       "loan_amnt        0.0\n",
       "funded_amnt      0.0\n",
       "term             0.0\n",
       "int_rate         0.0\n",
       "grade            0.0\n",
       "annual_inc       0.0\n",
       "loan_status      0.0\n",
       "dti              0.0\n",
       "revol_bal        0.0\n",
       "total_pymnt      0.0\n",
       "issue_d_year     0.0\n",
       "issue_d_month    0.0\n",
       "issue_d_num      0.0\n",
       "lateness         0.0\n",
       "dtype: float64"
      ]
     },
     "metadata": {},
     "output_type": "display_data"
    },
    {
     "name": "stdout",
     "output_type": "stream",
     "text": [
      "Percent with value 0...\n",
      "\n"
     ]
    },
    {
     "data": {
      "text/plain": [
       "loan_amnt        0.000000\n",
       "funded_amnt      0.000000\n",
       "term             0.000000\n",
       "int_rate         0.000000\n",
       "grade            0.000000\n",
       "annual_inc       0.000000\n",
       "loan_status      0.000000\n",
       "dti              0.000763\n",
       "revol_bal        0.005543\n",
       "total_pymnt      0.000446\n",
       "issue_d_year     0.000000\n",
       "issue_d_month    0.000000\n",
       "issue_d_num      0.000000\n",
       "lateness         0.406531\n",
       "dtype: float64"
      ]
     },
     "metadata": {},
     "output_type": "display_data"
    }
   ],
   "source": [
    "data_count = cln_input.shape[0]\n",
    "print('Num Loans:',data_count,'\\n\\nPercent missing...')\n",
    "display((cln_input.drop(pt1_drop_cols,axis=1).isna()*1.0).sum(axis=0)*1.0/data_count)\n",
    "print('Percent with value 0...\\n')\n",
    "display(((cln_input.drop(pt1_drop_cols,axis=1) == 0)*1.0).sum(axis=0)*1.0/data_count)"
   ]
  },
  {
   "cell_type": "code",
   "execution_count": 17,
   "metadata": {},
   "outputs": [],
   "source": [
    "# for col_a in cln_input.columns:\n",
    "#     for col_b in cln_input.columns:\n",
    "#         if col_a == col_b:\n",
    "#             continue\n",
    "#         cln_input.plot(x=col_a,y=col_b,kind='hexbin')"
   ]
  },
  {
   "cell_type": "code",
   "execution_count": 18,
   "metadata": {},
   "outputs": [],
   "source": [
    "cln_input['perc_pymnt'] = cln_input['total_pymnt']/cln_input['funded_amnt']"
   ]
  },
  {
   "cell_type": "code",
   "execution_count": 19,
   "metadata": {
    "scrolled": false
   },
   "outputs": [
    {
     "name": "stdout",
     "output_type": "stream",
     "text": [
      "                index        0\n",
      "0           loan_amnt    int64\n",
      "1         funded_amnt    int64\n",
      "2                term   object\n",
      "3            int_rate  float64\n",
      "4               grade   object\n",
      "5          annual_inc  float64\n",
      "6             issue_d   object\n",
      "7         loan_status   object\n",
      "8                 dti  float64\n",
      "9           revol_bal    int64\n",
      "10        total_pymnt  float64\n",
      "11          grade_num    int64\n",
      "12       issue_d_year   object\n",
      "13      issue_d_month   object\n",
      "14  issue_d_month_num    int64\n",
      "15        issue_d_num    int64\n",
      "16     credit_pol_flg  float64\n",
      "17    loan_status_rev   object\n",
      "18           lateness  float64\n",
      "19         perc_pymnt  float64\n"
     ]
    },
    {
     "name": "stderr",
     "output_type": "stream",
     "text": [
      "/anaconda2/lib/python3.6/site-packages/pandas/plotting/_matplotlib/core.py:338: RuntimeWarning: More than 20 figures have been opened. Figures created through the pyplot interface (`matplotlib.pyplot.figure`) are retained until explicitly closed and may consume too much memory. (To control this warning, see the rcParam `figure.max_open_warning`).\n",
      "  fig = self.plt.figure(figsize=self.figsize)\n",
      "/anaconda2/lib/python3.6/site-packages/ipykernel_launcher.py:20: RuntimeWarning: More than 20 figures have been opened. Figures created through the pyplot interface (`matplotlib.pyplot.figure`) are retained until explicitly closed and may consume too much memory. (To control this warning, see the rcParam `figure.max_open_warning`).\n"
     ]
    },
    {
     "data": {
      "image/png": "[encoded data removed]",
      "text/plain": [
       "<Figure size 432x288 with 1 Axes>"
      ]
     },
     "metadata": {
      "needs_background": "light"
     },
     "output_type": "display_data"
    },
    {
     "data": {
      "text/plain": [
       "<Figure size 432x288 with 0 Axes>"
      ]
     },
     "metadata": {},
     "output_type": "display_data"
    },
    {
     "data": {
      "image/png": "[encoded data removed]",
      "text/plain": [
       "<Figure size 432x288 with 1 Axes>"
      ]
     },
     "metadata": {
      "needs_background": "light"
     },
     "output_type": "display_data"
    },
    {
     "data": {
      "text/plain": [
       "<Figure size 432x288 with 0 Axes>"
      ]
     },
     "metadata": {},
     "output_type": "display_data"
    },
    {
     "data": {
      "image/png": "[encoded data removed]",
      "text/plain": [
       "<Figure size 432x288 with 1 Axes>"
      ]
     },
     "metadata": {
      "needs_background": "light"
     },
     "output_type": "display_data"
    },
    {
     "data": {
      "text/plain": [
       "<Figure size 432x288 with 0 Axes>"
      ]
     },
     "metadata": {},
     "output_type": "display_data"
    },
    {
     "data": {
      "image/png": "[encoded data removed]",
      "text/plain": [
       "<Figure size 432x288 with 1 Axes>"
      ]
     },
     "metadata": {
      "needs_background": "light"
     },
     "output_type": "display_data"
    },
    {
     "data": {
      "text/plain": [
       "<Figure size 432x288 with 0 Axes>"
      ]
     },
     "metadata": {},
     "output_type": "display_data"
    },
    {
     "data": {
      "image/png": "[encoded data removed]",
      "text/plain": [
       "<Figure size 432x288 with 1 Axes>"
      ]
     },
     "metadata": {
      "needs_background": "light"
     },
     "output_type": "display_data"
    },
    {
     "data": {
      "text/plain": [
       "<Figure size 432x288 with 0 Axes>"
      ]
     },
     "metadata": {},
     "output_type": "display_data"
    },
    {
     "data": {
      "image/png": "[encoded data removed]",
      "text/plain": [
       "<Figure size 432x288 with 1 Axes>"
      ]
     },
     "metadata": {
      "needs_background": "light"
     },
     "output_type": "display_data"
    },
    {
     "data": {
      "text/plain": [
       "<Figure size 432x288 with 0 Axes>"
      ]
     },
     "metadata": {},
     "output_type": "display_data"
    },
    {
     "data": {
      "image/png": "[encoded data removed]",
      "text/plain": [
       "<Figure size 432x288 with 1 Axes>"
      ]
     },
     "metadata": {
      "needs_background": "light"
     },
     "output_type": "display_data"
    },
    {
     "data": {
      "text/plain": [
       "<Figure size 432x288 with 0 Axes>"
      ]
     },
     "metadata": {},
     "output_type": "display_data"
    },
    {
     "data": {
      "image/png": "[encoded data removed]",
      "text/plain": [
       "<Figure size 432x288 with 1 Axes>"
      ]
     },
     "metadata": {
      "needs_background": "light"
     },
     "output_type": "display_data"
    },
    {
     "data": {
      "text/plain": [
       "<Figure size 432x288 with 0 Axes>"
      ]
     },
     "metadata": {},
     "output_type": "display_data"
    },
    {
     "data": {
      "image/png": "[encoded data removed]",
      "text/plain": [
       "<Figure size 432x288 with 1 Axes>"
      ]
     },
     "metadata": {
      "needs_background": "light"
     },
     "output_type": "display_data"
    },
    {
     "data": {
      "text/plain": [
       "<Figure size 432x288 with 0 Axes>"
      ]
     },
     "metadata": {},
     "output_type": "display_data"
    },
    {
     "data": {
      "image/png": "[encoded data removed]",
      "text/plain": [
       "<Figure size 432x288 with 1 Axes>"
      ]
     },
     "metadata": {
      "needs_background": "light"
     },
     "output_type": "display_data"
    },
    {
     "data": {
      "text/plain": [
       "<Figure size 432x288 with 0 Axes>"
      ]
     },
     "metadata": {},
     "output_type": "display_data"
    },
    {
     "data": {
      "image/png": "[encoded data removed]",
      "text/plain": [
       "<Figure size 432x288 with 1 Axes>"
      ]
     },
     "metadata": {
      "needs_background": "light"
     },
     "output_type": "display_data"
    },
    {
     "data": {
      "text/plain": [
       "<Figure size 432x288 with 0 Axes>"
      ]
     },
     "metadata": {},
     "output_type": "display_data"
    },
    {
     "data": {
      "image/png": "[encoded data removed]",
      "text/plain": [
       "<Figure size 432x288 with 1 Axes>"
      ]
     },
     "metadata": {
      "needs_background": "light"
     },
     "output_type": "display_data"
    },
    {
     "data": {
      "text/plain": [
       "<Figure size 432x288 with 0 Axes>"
      ]
     },
     "metadata": {},
     "output_type": "display_data"
    },
    {
     "data": {
      "image/png": "[encoded data removed]",
      "text/plain": [
       "<Figure size 432x288 with 1 Axes>"
      ]
     },
     "metadata": {
      "needs_background": "light"
     },
     "output_type": "display_data"
    },
    {
     "data": {
      "text/plain": [
       "<Figure size 432x288 with 0 Axes>"
      ]
     },
     "metadata": {},
     "output_type": "display_data"
    },
    {
     "data": {
      "image/png": "[encoded data removed]",
      "text/plain": [
       "<Figure size 432x288 with 1 Axes>"
      ]
     },
     "metadata": {
      "needs_background": "light"
     },
     "output_type": "display_data"
    },
    {
     "data": {
      "text/plain": [
       "<Figure size 432x288 with 0 Axes>"
      ]
     },
     "metadata": {},
     "output_type": "display_data"
    },
    {
     "data": {
      "image/png": "[encoded data removed]",
      "text/plain": [
       "<Figure size 432x288 with 1 Axes>"
      ]
     },
     "metadata": {
      "needs_background": "light"
     },
     "output_type": "display_data"
    },
    {
     "data": {
      "text/plain": [
       "<Figure size 432x288 with 0 Axes>"
      ]
     },
     "metadata": {},
     "output_type": "display_data"
    }
   ],
   "source": [
    "# cln_input['annual_inc'][cln_input['annual_inc'] < cln_input['annual_inc'].quantile(0.997)].plot(kind='hist')\n",
    "data_count = cln_input.shape[0]\n",
    "\n",
    "ignore_cols = ['issue_d_num','issue_d','grade_num','lateness','credit_pol_flg']\n",
    "\n",
    "print(pd.DataFrame(cln_input.dtypes).reset_index(drop=False))\n",
    "col_list = pd.DataFrame(cln_input.drop(ignore_cols,axis=1).dtypes).reset_index(drop=False).copy()\n",
    "\n",
    "obj_cols = col_list[col_list[0] == 'object']\n",
    "num_cols = col_list[col_list[0] != 'object']\n",
    "\n",
    "cln_input['cnt'] = 0\n",
    "\n",
    "for obj_col in obj_cols['index'].to_list():\n",
    "    (cln_input[[obj_col,'cnt']].groupby(obj_col).count()*1.0/data_count).plot(kind='bar')\n",
    "    plt.figure()\n",
    "\n",
    "for num_col in num_cols['index'].to_list():\n",
    "    cln_input[[num_col]].plot(kind='hist')\n",
    "    plt.figure()\n",
    "\n",
    "cln_input = cln_input.drop('cnt',axis=1)"
   ]
  },
  {
   "cell_type": "code",
   "execution_count": 20,
   "metadata": {},
   "outputs": [
    {
     "data": {
      "text/plain": [
       "<matplotlib.axes._subplots.AxesSubplot at 0x1c5d69a470>"
      ]
     },
     "execution_count": 20,
     "metadata": {},
     "output_type": "execute_result"
    },
    {
     "data": {
      "image/png": "[encoded data removed]",
      "text/plain": [
       "<Figure size 432x288 with 1 Axes>"
      ]
     },
     "metadata": {
      "needs_background": "light"
     },
     "output_type": "display_data"
    }
   ],
   "source": [
    "cln_input[['annual_inc','dti','revol_bal']].plot(kind='box')"
   ]
  },
  {
   "cell_type": "code",
   "execution_count": 21,
   "metadata": {},
   "outputs": [],
   "source": [
    "# Exclude outlier income, dti, and revol_bal over the 99th percentile\n",
    "cln_input = cln_input[cln_input['annual_inc'] < cln_input['annual_inc'].quantile(0.99)]\n",
    "cln_input = cln_input[cln_input['dti'] < cln_input['dti'].quantile(0.99)]\n",
    "cln_input = cln_input[cln_input['revol_bal'] < cln_input['revol_bal'].quantile(0.99)]"
   ]
  },
  {
   "cell_type": "code",
   "execution_count": 22,
   "metadata": {},
   "outputs": [
    {
     "data": {
      "text/plain": [
       "<matplotlib.axes._subplots.AxesSubplot at 0x1c5d8716d8>"
      ]
     },
     "execution_count": 22,
     "metadata": {},
     "output_type": "execute_result"
    },
    {
     "data": {
      "image/png": "[encoded data removed]",
      "text/plain": [
       "<Figure size 432x288 with 1 Axes>"
      ]
     },
     "metadata": {
      "needs_background": "light"
     },
     "output_type": "display_data"
    }
   ],
   "source": [
    "cln_input[['annual_inc','dti','revol_bal']].plot(kind='box')"
   ]
  },
  {
   "cell_type": "code",
   "execution_count": 23,
   "metadata": {},
   "outputs": [
    {
     "name": "stdout",
     "output_type": "stream",
     "text": [
      "                index        0\n",
      "0           loan_amnt    int64\n",
      "1         funded_amnt    int64\n",
      "2                term   object\n",
      "3            int_rate  float64\n",
      "4               grade   object\n",
      "5          annual_inc  float64\n",
      "6             issue_d   object\n",
      "7         loan_status   object\n",
      "8                 dti  float64\n",
      "9           revol_bal    int64\n",
      "10        total_pymnt  float64\n",
      "11          grade_num    int64\n",
      "12       issue_d_year   object\n",
      "13      issue_d_month   object\n",
      "14  issue_d_month_num    int64\n",
      "15        issue_d_num    int64\n",
      "16     credit_pol_flg  float64\n",
      "17    loan_status_rev   object\n",
      "18           lateness  float64\n",
      "19         perc_pymnt  float64\n"
     ]
    },
    {
     "data": {
      "image/png": "[encoded data removed]",
      "text/plain": [
       "<Figure size 432x288 with 1 Axes>"
      ]
     },
     "metadata": {
      "needs_background": "light"
     },
     "output_type": "display_data"
    },
    {
     "data": {
      "text/plain": [
       "<Figure size 432x288 with 0 Axes>"
      ]
     },
     "metadata": {},
     "output_type": "display_data"
    },
    {
     "data": {
      "image/png": "[encoded data removed]",
      "text/plain": [
       "<Figure size 432x288 with 1 Axes>"
      ]
     },
     "metadata": {
      "needs_background": "light"
     },
     "output_type": "display_data"
    },
    {
     "data": {
      "text/plain": [
       "<Figure size 432x288 with 0 Axes>"
      ]
     },
     "metadata": {},
     "output_type": "display_data"
    },
    {
     "data": {
      "image/png": "[encoded data removed]",
      "text/plain": [
       "<Figure size 432x288 with 1 Axes>"
      ]
     },
     "metadata": {
      "needs_background": "light"
     },
     "output_type": "display_data"
    },
    {
     "data": {
      "text/plain": [
       "<Figure size 432x288 with 0 Axes>"
      ]
     },
     "metadata": {},
     "output_type": "display_data"
    }
   ],
   "source": [
    "# cln_input['annual_inc'][cln_input['annual_inc'] < cln_input['annual_inc'].quantile(0.997)].plot(kind='hist')\n",
    "data_count = cln_input.shape[0]\n",
    "\n",
    "keep_cols = ['annual_inc','dti','revol_bal']\n",
    "\n",
    "print(pd.DataFrame(cln_input.dtypes).reset_index(drop=False))\n",
    "col_list = pd.DataFrame(cln_input[keep_cols].dtypes).reset_index(drop=False).copy()\n",
    "\n",
    "obj_cols = col_list[col_list[0] == 'object']\n",
    "num_cols = col_list[col_list[0] != 'object']\n",
    "\n",
    "cln_input['cnt'] = 0\n",
    "\n",
    "for obj_col in obj_cols['index'].to_list():\n",
    "    (cln_input[[obj_col,'cnt']].groupby(obj_col).count()*1.0/data_count).plot(kind='bar')\n",
    "    plt.figure()\n",
    "\n",
    "for num_col in num_cols['index'].to_list():\n",
    "    cln_input[[num_col]].plot(kind='hist')\n",
    "    plt.figure()\n",
    "\n",
    "cln_input = cln_input.drop('cnt',axis=1)"
   ]
  },
  {
   "cell_type": "code",
   "execution_count": 24,
   "metadata": {},
   "outputs": [],
   "source": [
    "# Based on Assumption 5, DTI should not be larger than 30%. Thus, any DTI ≥ 1 is likely written in percentages\n",
    "# and should be scaled down by 100.\n",
    "cln_input.loc[(cln_input['dti'] >= 1),'dti'] /= 100.0\n",
    "\n",
    "# Continuing with Assumption 5, DTI should not be larger than 30%. However, to add room for the possibility\n",
    "# of minor policy violations any DTI > 0.4 is excluded from the dataset...\n",
    "cln_input = cln_input[cln_input['dti'] <= 0.4]"
   ]
  },
  {
   "cell_type": "code",
   "execution_count": 25,
   "metadata": {},
   "outputs": [
    {
     "data": {
      "text/plain": [
       "<Figure size 432x288 with 0 Axes>"
      ]
     },
     "execution_count": 25,
     "metadata": {},
     "output_type": "execute_result"
    },
    {
     "data": {
      "image/png": "[encoded data removed]",
      "text/plain": [
       "<Figure size 432x288 with 1 Axes>"
      ]
     },
     "metadata": {
      "needs_background": "light"
     },
     "output_type": "display_data"
    },
    {
     "data": {
      "text/plain": [
       "<Figure size 432x288 with 0 Axes>"
      ]
     },
     "metadata": {},
     "output_type": "display_data"
    }
   ],
   "source": [
    "cln_input[['dti']].plot(kind='hist')\n",
    "plt.figure()"
   ]
  },
  {
   "cell_type": "code",
   "execution_count": 26,
   "metadata": {},
   "outputs": [
    {
     "data": {
      "text/html": [
       "<div>\n",
       "<style scoped>\n",
       "    .dataframe tbody tr th:only-of-type {\n",
       "        vertical-align: middle;\n",
       "    }\n",
       "\n",
       "    .dataframe tbody tr th {\n",
       "        vertical-align: top;\n",
       "    }\n",
       "\n",
       "    .dataframe thead th {\n",
       "        text-align: right;\n",
       "    }\n",
       "</style>\n",
       "<table border=\"1\" class=\"dataframe\">\n",
       "  <thead>\n",
       "    <tr style=\"text-align: right;\">\n",
       "      <th></th>\n",
       "      <th>loan_amnt</th>\n",
       "      <th>funded_amnt</th>\n",
       "      <th>int_rate</th>\n",
       "      <th>annual_inc</th>\n",
       "      <th>dti</th>\n",
       "      <th>revol_bal</th>\n",
       "      <th>total_pymnt</th>\n",
       "      <th>issue_d_num</th>\n",
       "      <th>lateness</th>\n",
       "      <th>perc_pymnt</th>\n",
       "    </tr>\n",
       "  </thead>\n",
       "  <tbody>\n",
       "    <tr>\n",
       "      <td>count</td>\n",
       "      <td>2179759.00</td>\n",
       "      <td>2179759.00</td>\n",
       "      <td>2179759.00</td>\n",
       "      <td>2179759.00</td>\n",
       "      <td>2179759.00</td>\n",
       "      <td>2179759.00</td>\n",
       "      <td>2179759.00</td>\n",
       "      <td>2179759.00</td>\n",
       "      <td>2179759.00</td>\n",
       "      <td>2179759.00</td>\n",
       "    </tr>\n",
       "    <tr>\n",
       "      <td>mean</td>\n",
       "      <td>14786.23</td>\n",
       "      <td>14781.06</td>\n",
       "      <td>13.10</td>\n",
       "      <td>73940.41</td>\n",
       "      <td>0.18</td>\n",
       "      <td>14810.26</td>\n",
       "      <td>11718.10</td>\n",
       "      <td>201590.08</td>\n",
       "      <td>0.16</td>\n",
       "      <td>0.81</td>\n",
       "    </tr>\n",
       "    <tr>\n",
       "      <td>std</td>\n",
       "      <td>9009.90</td>\n",
       "      <td>9007.99</td>\n",
       "      <td>4.81</td>\n",
       "      <td>39408.32</td>\n",
       "      <td>0.08</td>\n",
       "      <td>13012.17</td>\n",
       "      <td>9765.33</td>\n",
       "      <td>179.13</td>\n",
       "      <td>1.87</td>\n",
       "      <td>0.41</td>\n",
       "    </tr>\n",
       "    <tr>\n",
       "      <td>min</td>\n",
       "      <td>500.00</td>\n",
       "      <td>500.00</td>\n",
       "      <td>5.31</td>\n",
       "      <td>600.00</td>\n",
       "      <td>0.00</td>\n",
       "      <td>0.00</td>\n",
       "      <td>0.00</td>\n",
       "      <td>200706.00</td>\n",
       "      <td>-1.00</td>\n",
       "      <td>0.00</td>\n",
       "    </tr>\n",
       "    <tr>\n",
       "      <td>25%</td>\n",
       "      <td>8000.00</td>\n",
       "      <td>8000.00</td>\n",
       "      <td>9.49</td>\n",
       "      <td>46000.00</td>\n",
       "      <td>0.12</td>\n",
       "      <td>5897.00</td>\n",
       "      <td>4266.31</td>\n",
       "      <td>201504.00</td>\n",
       "      <td>-1.00</td>\n",
       "      <td>0.43</td>\n",
       "    </tr>\n",
       "    <tr>\n",
       "      <td>50%</td>\n",
       "      <td>12400.00</td>\n",
       "      <td>12375.00</td>\n",
       "      <td>12.62</td>\n",
       "      <td>65000.00</td>\n",
       "      <td>0.18</td>\n",
       "      <td>11120.00</td>\n",
       "      <td>9021.79</td>\n",
       "      <td>201606.00</td>\n",
       "      <td>0.00</td>\n",
       "      <td>1.01</td>\n",
       "    </tr>\n",
       "    <tr>\n",
       "      <td>75%</td>\n",
       "      <td>20000.00</td>\n",
       "      <td>20000.00</td>\n",
       "      <td>15.99</td>\n",
       "      <td>90454.40</td>\n",
       "      <td>0.24</td>\n",
       "      <td>19585.00</td>\n",
       "      <td>16564.19</td>\n",
       "      <td>201710.00</td>\n",
       "      <td>0.00</td>\n",
       "      <td>1.14</td>\n",
       "    </tr>\n",
       "    <tr>\n",
       "      <td>max</td>\n",
       "      <td>40000.00</td>\n",
       "      <td>40000.00</td>\n",
       "      <td>30.99</td>\n",
       "      <td>269950.00</td>\n",
       "      <td>0.40</td>\n",
       "      <td>88811.00</td>\n",
       "      <td>63296.88</td>\n",
       "      <td>201812.00</td>\n",
       "      <td>5.00</td>\n",
       "      <td>2.17</td>\n",
       "    </tr>\n",
       "  </tbody>\n",
       "</table>\n",
       "</div>"
      ],
      "text/plain": [
       "       loan_amnt  funded_amnt   int_rate  annual_inc        dti  revol_bal  \\\n",
       "count 2179759.00   2179759.00 2179759.00  2179759.00 2179759.00 2179759.00   \n",
       "mean    14786.23     14781.06      13.10    73940.41       0.18   14810.26   \n",
       "std      9009.90      9007.99       4.81    39408.32       0.08   13012.17   \n",
       "min       500.00       500.00       5.31      600.00       0.00       0.00   \n",
       "25%      8000.00      8000.00       9.49    46000.00       0.12    5897.00   \n",
       "50%     12400.00     12375.00      12.62    65000.00       0.18   11120.00   \n",
       "75%     20000.00     20000.00      15.99    90454.40       0.24   19585.00   \n",
       "max     40000.00     40000.00      30.99   269950.00       0.40   88811.00   \n",
       "\n",
       "       total_pymnt  issue_d_num   lateness  perc_pymnt  \n",
       "count   2179759.00   2179759.00 2179759.00  2179759.00  \n",
       "mean      11718.10    201590.08       0.16        0.81  \n",
       "std        9765.33       179.13       1.87        0.41  \n",
       "min           0.00    200706.00      -1.00        0.00  \n",
       "25%        4266.31    201504.00      -1.00        0.43  \n",
       "50%        9021.79    201606.00       0.00        1.01  \n",
       "75%       16564.19    201710.00       0.00        1.14  \n",
       "max       63296.88    201812.00       5.00        2.17  "
      ]
     },
     "metadata": {},
     "output_type": "display_data"
    }
   ],
   "source": [
    "with pd.option_context('display.float_format', lambda x: '%.2f' % x):\n",
    "    display(cln_input.drop(pt1_drop_cols,axis=1).describe())"
   ]
  },
  {
   "cell_type": "code",
   "execution_count": null,
   "metadata": {},
   "outputs": [],
   "source": []
  },
  {
   "cell_type": "code",
   "execution_count": 27,
   "metadata": {},
   "outputs": [],
   "source": [
    "###################################\n",
    "#### PART 2: Business Analysis ####\n",
    "###################################\n",
    "\n",
    "# Assumptions:\n",
    "# 1. (See Above) This 2007-2018 data represents \"present\" data as of 11:59 PM on December 31, 2018.\n",
    "#    Therefore, any loans originating after Dec. 2015 have less than 36 months of data\n",
    "#    and should be excluded in Pt. 2 & Pt. 3.\n",
    "# 2. Considering only 36 month loans indicates we are not considering a 36 month investment in a 60 month loan.\n",
    "#    i.e. We hold until maturity.\n",
    "#\n",
    "#"
   ]
  },
  {
   "cell_type": "code",
   "execution_count": 28,
   "metadata": {},
   "outputs": [],
   "source": [
    "# display(loans36.groupby(['lateness']).count())\n",
    "\n",
    "#### Note: Lateness == -1 when the loan is Fully Paid\n",
    "cln_input['paid_flg'] = (cln_input['lateness'] < 0)*1.0\n"
   ]
  },
  {
   "cell_type": "code",
   "execution_count": 29,
   "metadata": {},
   "outputs": [],
   "source": [
    "#### Load only 36 month term loans.\n",
    "loans36 = cln_input[(cln_input['term'].str.contains('36'))].copy()\n",
    "\n",
    "### Exclude loans with less than 36 months of data. (Assumption 1)\n",
    "loans36 = loans36[(loans36['issue_d_num'] <= 201512)].reset_index(drop=True)"
   ]
  },
  {
   "cell_type": "code",
   "execution_count": 30,
   "metadata": {},
   "outputs": [
    {
     "name": "stdout",
     "output_type": "stream",
     "text": [
      "% of loans fully paid: 0.8592428728853503\n"
     ]
    }
   ],
   "source": [
    "##########################################################################\n",
    "#### Pt.2 — Question 1: What percentage of loans has been fully paid? ####\n",
    "##########################################################################\n",
    "\n",
    "print('% of loans fully paid:',loans36['paid_flg'].sum()*1.0/loans36['paid_flg'].count())\n",
    "\n",
    "#### Answer: 85.9%"
   ]
  },
  {
   "cell_type": "code",
   "execution_count": 31,
   "metadata": {
    "scrolled": true
   },
   "outputs": [
    {
     "data": {
      "text/html": [
       "<div>\n",
       "<style scoped>\n",
       "    .dataframe tbody tr th:only-of-type {\n",
       "        vertical-align: middle;\n",
       "    }\n",
       "\n",
       "    .dataframe tbody tr th {\n",
       "        vertical-align: top;\n",
       "    }\n",
       "\n",
       "    .dataframe thead th {\n",
       "        text-align: right;\n",
       "    }\n",
       "</style>\n",
       "<table border=\"1\" class=\"dataframe\">\n",
       "  <thead>\n",
       "    <tr style=\"text-align: right;\">\n",
       "      <th></th>\n",
       "      <th></th>\n",
       "      <th>sum</th>\n",
       "      <th>count</th>\n",
       "      <th>def_perc</th>\n",
       "    </tr>\n",
       "    <tr>\n",
       "      <th>issue_d_year</th>\n",
       "      <th>grade</th>\n",
       "      <th></th>\n",
       "      <th></th>\n",
       "      <th></th>\n",
       "    </tr>\n",
       "  </thead>\n",
       "  <tbody>\n",
       "    <tr>\n",
       "      <td>2015</td>\n",
       "      <td>G</td>\n",
       "      <td>116.0</td>\n",
       "      <td>247</td>\n",
       "      <td>0.469636</td>\n",
       "    </tr>\n",
       "    <tr>\n",
       "      <td rowspan=\"2\" valign=\"top\">2007</td>\n",
       "      <td>F</td>\n",
       "      <td>22.0</td>\n",
       "      <td>48</td>\n",
       "      <td>0.458333</td>\n",
       "    </tr>\n",
       "    <tr>\n",
       "      <td>G</td>\n",
       "      <td>14.0</td>\n",
       "      <td>32</td>\n",
       "      <td>0.437500</td>\n",
       "    </tr>\n",
       "    <tr>\n",
       "      <td>2015</td>\n",
       "      <td>F</td>\n",
       "      <td>576.0</td>\n",
       "      <td>1354</td>\n",
       "      <td>0.425406</td>\n",
       "    </tr>\n",
       "    <tr>\n",
       "      <td>2014</td>\n",
       "      <td>G</td>\n",
       "      <td>64.0</td>\n",
       "      <td>175</td>\n",
       "      <td>0.365714</td>\n",
       "    </tr>\n",
       "    <tr>\n",
       "      <td>2008</td>\n",
       "      <td>F</td>\n",
       "      <td>36.0</td>\n",
       "      <td>106</td>\n",
       "      <td>0.339623</td>\n",
       "    </tr>\n",
       "    <tr>\n",
       "      <td>2011</td>\n",
       "      <td>G</td>\n",
       "      <td>3.0</td>\n",
       "      <td>9</td>\n",
       "      <td>0.333333</td>\n",
       "    </tr>\n",
       "    <tr>\n",
       "      <td>2010</td>\n",
       "      <td>G</td>\n",
       "      <td>11.0</td>\n",
       "      <td>33</td>\n",
       "      <td>0.333333</td>\n",
       "    </tr>\n",
       "    <tr>\n",
       "      <td>2015</td>\n",
       "      <td>E</td>\n",
       "      <td>3085.0</td>\n",
       "      <td>9322</td>\n",
       "      <td>0.330938</td>\n",
       "    </tr>\n",
       "    <tr>\n",
       "      <td rowspan=\"2\" valign=\"top\">2007</td>\n",
       "      <td>E</td>\n",
       "      <td>30.0</td>\n",
       "      <td>93</td>\n",
       "      <td>0.322581</td>\n",
       "    </tr>\n",
       "    <tr>\n",
       "      <td>D</td>\n",
       "      <td>30.0</td>\n",
       "      <td>94</td>\n",
       "      <td>0.319149</td>\n",
       "    </tr>\n",
       "    <tr>\n",
       "      <td>2008</td>\n",
       "      <td>G</td>\n",
       "      <td>24.0</td>\n",
       "      <td>78</td>\n",
       "      <td>0.307692</td>\n",
       "    </tr>\n",
       "    <tr>\n",
       "      <td>2009</td>\n",
       "      <td>G</td>\n",
       "      <td>14.0</td>\n",
       "      <td>47</td>\n",
       "      <td>0.297872</td>\n",
       "    </tr>\n",
       "    <tr>\n",
       "      <td>2014</td>\n",
       "      <td>F</td>\n",
       "      <td>579.0</td>\n",
       "      <td>1953</td>\n",
       "      <td>0.296467</td>\n",
       "    </tr>\n",
       "    <tr>\n",
       "      <td>2010</td>\n",
       "      <td>F</td>\n",
       "      <td>25.0</td>\n",
       "      <td>86</td>\n",
       "      <td>0.290698</td>\n",
       "    </tr>\n",
       "    <tr>\n",
       "      <td>2013</td>\n",
       "      <td>G</td>\n",
       "      <td>4.0</td>\n",
       "      <td>14</td>\n",
       "      <td>0.285714</td>\n",
       "    </tr>\n",
       "    <tr>\n",
       "      <td>2008</td>\n",
       "      <td>E</td>\n",
       "      <td>75.0</td>\n",
       "      <td>277</td>\n",
       "      <td>0.270758</td>\n",
       "    </tr>\n",
       "    <tr>\n",
       "      <td>2014</td>\n",
       "      <td>E</td>\n",
       "      <td>1888.0</td>\n",
       "      <td>6979</td>\n",
       "      <td>0.270526</td>\n",
       "    </tr>\n",
       "    <tr>\n",
       "      <td>2015</td>\n",
       "      <td>D</td>\n",
       "      <td>8530.0</td>\n",
       "      <td>32254</td>\n",
       "      <td>0.264463</td>\n",
       "    </tr>\n",
       "    <tr>\n",
       "      <td>2013</td>\n",
       "      <td>F</td>\n",
       "      <td>155.0</td>\n",
       "      <td>591</td>\n",
       "      <td>0.262267</td>\n",
       "    </tr>\n",
       "    <tr>\n",
       "      <td>2009</td>\n",
       "      <td>F</td>\n",
       "      <td>25.0</td>\n",
       "      <td>97</td>\n",
       "      <td>0.257732</td>\n",
       "    </tr>\n",
       "    <tr>\n",
       "      <td>2008</td>\n",
       "      <td>D</td>\n",
       "      <td>104.0</td>\n",
       "      <td>404</td>\n",
       "      <td>0.257426</td>\n",
       "    </tr>\n",
       "    <tr>\n",
       "      <td>2011</td>\n",
       "      <td>F</td>\n",
       "      <td>13.0</td>\n",
       "      <td>53</td>\n",
       "      <td>0.245283</td>\n",
       "    </tr>\n",
       "    <tr>\n",
       "      <td>2007</td>\n",
       "      <td>C</td>\n",
       "      <td>32.0</td>\n",
       "      <td>136</td>\n",
       "      <td>0.235294</td>\n",
       "    </tr>\n",
       "    <tr>\n",
       "      <td>2013</td>\n",
       "      <td>E</td>\n",
       "      <td>746.0</td>\n",
       "      <td>3175</td>\n",
       "      <td>0.234961</td>\n",
       "    </tr>\n",
       "    <tr>\n",
       "      <td>2014</td>\n",
       "      <td>D</td>\n",
       "      <td>4504.0</td>\n",
       "      <td>20220</td>\n",
       "      <td>0.222750</td>\n",
       "    </tr>\n",
       "    <tr>\n",
       "      <td>2012</td>\n",
       "      <td>E</td>\n",
       "      <td>171.0</td>\n",
       "      <td>782</td>\n",
       "      <td>0.218670</td>\n",
       "    </tr>\n",
       "    <tr>\n",
       "      <td>2009</td>\n",
       "      <td>E</td>\n",
       "      <td>64.0</td>\n",
       "      <td>294</td>\n",
       "      <td>0.217687</td>\n",
       "    </tr>\n",
       "    <tr>\n",
       "      <td>2012</td>\n",
       "      <td>D</td>\n",
       "      <td>1067.0</td>\n",
       "      <td>5019</td>\n",
       "      <td>0.212592</td>\n",
       "    </tr>\n",
       "    <tr>\n",
       "      <td>2011</td>\n",
       "      <td>E</td>\n",
       "      <td>55.0</td>\n",
       "      <td>264</td>\n",
       "      <td>0.208333</td>\n",
       "    </tr>\n",
       "    <tr>\n",
       "      <td>2008</td>\n",
       "      <td>C</td>\n",
       "      <td>114.0</td>\n",
       "      <td>553</td>\n",
       "      <td>0.206148</td>\n",
       "    </tr>\n",
       "    <tr>\n",
       "      <td>2013</td>\n",
       "      <td>D</td>\n",
       "      <td>2929.0</td>\n",
       "      <td>14346</td>\n",
       "      <td>0.204168</td>\n",
       "    </tr>\n",
       "    <tr>\n",
       "      <td>2015</td>\n",
       "      <td>C</td>\n",
       "      <td>14941.0</td>\n",
       "      <td>76327</td>\n",
       "      <td>0.195750</td>\n",
       "    </tr>\n",
       "    <tr>\n",
       "      <td>2012</td>\n",
       "      <td>F</td>\n",
       "      <td>19.0</td>\n",
       "      <td>100</td>\n",
       "      <td>0.190000</td>\n",
       "    </tr>\n",
       "    <tr>\n",
       "      <td rowspan=\"2\" valign=\"top\">2010</td>\n",
       "      <td>D</td>\n",
       "      <td>229.0</td>\n",
       "      <td>1210</td>\n",
       "      <td>0.189256</td>\n",
       "    </tr>\n",
       "    <tr>\n",
       "      <td>E</td>\n",
       "      <td>58.0</td>\n",
       "      <td>314</td>\n",
       "      <td>0.184713</td>\n",
       "    </tr>\n",
       "    <tr>\n",
       "      <td>2011</td>\n",
       "      <td>D</td>\n",
       "      <td>226.0</td>\n",
       "      <td>1228</td>\n",
       "      <td>0.184039</td>\n",
       "    </tr>\n",
       "    <tr>\n",
       "      <td>2012</td>\n",
       "      <td>G</td>\n",
       "      <td>4.0</td>\n",
       "      <td>22</td>\n",
       "      <td>0.181818</td>\n",
       "    </tr>\n",
       "    <tr>\n",
       "      <td>2009</td>\n",
       "      <td>D</td>\n",
       "      <td>140.0</td>\n",
       "      <td>781</td>\n",
       "      <td>0.179257</td>\n",
       "    </tr>\n",
       "    <tr>\n",
       "      <td>2012</td>\n",
       "      <td>C</td>\n",
       "      <td>1735.0</td>\n",
       "      <td>9829</td>\n",
       "      <td>0.176518</td>\n",
       "    </tr>\n",
       "    <tr>\n",
       "      <td>2014</td>\n",
       "      <td>C</td>\n",
       "      <td>7493.0</td>\n",
       "      <td>43417</td>\n",
       "      <td>0.172582</td>\n",
       "    </tr>\n",
       "    <tr>\n",
       "      <td>2008</td>\n",
       "      <td>B</td>\n",
       "      <td>95.0</td>\n",
       "      <td>558</td>\n",
       "      <td>0.170251</td>\n",
       "    </tr>\n",
       "    <tr>\n",
       "      <td>2011</td>\n",
       "      <td>C</td>\n",
       "      <td>340.0</td>\n",
       "      <td>2151</td>\n",
       "      <td>0.158066</td>\n",
       "    </tr>\n",
       "    <tr>\n",
       "      <td>2007</td>\n",
       "      <td>B</td>\n",
       "      <td>14.0</td>\n",
       "      <td>89</td>\n",
       "      <td>0.157303</td>\n",
       "    </tr>\n",
       "    <tr>\n",
       "      <td>2013</td>\n",
       "      <td>C</td>\n",
       "      <td>3736.0</td>\n",
       "      <td>24387</td>\n",
       "      <td>0.153196</td>\n",
       "    </tr>\n",
       "    <tr>\n",
       "      <td>2009</td>\n",
       "      <td>C</td>\n",
       "      <td>199.0</td>\n",
       "      <td>1300</td>\n",
       "      <td>0.153077</td>\n",
       "    </tr>\n",
       "    <tr>\n",
       "      <td>2010</td>\n",
       "      <td>C</td>\n",
       "      <td>267.0</td>\n",
       "      <td>2003</td>\n",
       "      <td>0.133300</td>\n",
       "    </tr>\n",
       "    <tr>\n",
       "      <td>2012</td>\n",
       "      <td>B</td>\n",
       "      <td>2091.0</td>\n",
       "      <td>16643</td>\n",
       "      <td>0.125638</td>\n",
       "    </tr>\n",
       "    <tr>\n",
       "      <td>2015</td>\n",
       "      <td>B</td>\n",
       "      <td>10832.0</td>\n",
       "      <td>89880</td>\n",
       "      <td>0.120516</td>\n",
       "    </tr>\n",
       "    <tr>\n",
       "      <td>2009</td>\n",
       "      <td>B</td>\n",
       "      <td>166.0</td>\n",
       "      <td>1378</td>\n",
       "      <td>0.120464</td>\n",
       "    </tr>\n",
       "  </tbody>\n",
       "</table>\n",
       "</div>"
      ],
      "text/plain": [
       "                        sum  count  def_perc\n",
       "issue_d_year grade                          \n",
       "2015         G        116.0    247  0.469636\n",
       "2007         F         22.0     48  0.458333\n",
       "             G         14.0     32  0.437500\n",
       "2015         F        576.0   1354  0.425406\n",
       "2014         G         64.0    175  0.365714\n",
       "2008         F         36.0    106  0.339623\n",
       "2011         G          3.0      9  0.333333\n",
       "2010         G         11.0     33  0.333333\n",
       "2015         E       3085.0   9322  0.330938\n",
       "2007         E         30.0     93  0.322581\n",
       "             D         30.0     94  0.319149\n",
       "2008         G         24.0     78  0.307692\n",
       "2009         G         14.0     47  0.297872\n",
       "2014         F        579.0   1953  0.296467\n",
       "2010         F         25.0     86  0.290698\n",
       "2013         G          4.0     14  0.285714\n",
       "2008         E         75.0    277  0.270758\n",
       "2014         E       1888.0   6979  0.270526\n",
       "2015         D       8530.0  32254  0.264463\n",
       "2013         F        155.0    591  0.262267\n",
       "2009         F         25.0     97  0.257732\n",
       "2008         D        104.0    404  0.257426\n",
       "2011         F         13.0     53  0.245283\n",
       "2007         C         32.0    136  0.235294\n",
       "2013         E        746.0   3175  0.234961\n",
       "2014         D       4504.0  20220  0.222750\n",
       "2012         E        171.0    782  0.218670\n",
       "2009         E         64.0    294  0.217687\n",
       "2012         D       1067.0   5019  0.212592\n",
       "2011         E         55.0    264  0.208333\n",
       "2008         C        114.0    553  0.206148\n",
       "2013         D       2929.0  14346  0.204168\n",
       "2015         C      14941.0  76327  0.195750\n",
       "2012         F         19.0    100  0.190000\n",
       "2010         D        229.0   1210  0.189256\n",
       "             E         58.0    314  0.184713\n",
       "2011         D        226.0   1228  0.184039\n",
       "2012         G          4.0     22  0.181818\n",
       "2009         D        140.0    781  0.179257\n",
       "2012         C       1735.0   9829  0.176518\n",
       "2014         C       7493.0  43417  0.172582\n",
       "2008         B         95.0    558  0.170251\n",
       "2011         C        340.0   2151  0.158066\n",
       "2007         B         14.0     89  0.157303\n",
       "2013         C       3736.0  24387  0.153196\n",
       "2009         C        199.0   1300  0.153077\n",
       "2010         C        267.0   2003  0.133300\n",
       "2012         B       2091.0  16643  0.125638\n",
       "2015         B      10832.0  89880  0.120516\n",
       "2009         B        166.0   1378  0.120464"
      ]
     },
     "metadata": {},
     "output_type": "display_data"
    }
   ],
   "source": [
    "###############################################################################\n",
    "#### Pt.2 — Question 2: When bucketed by year of origination and grade,    ####\n",
    "####        which cohort has the highest rate of defaults? Here you may    ####\n",
    "####        assume that any loan which was not fully paid had “defaulted”? ####\n",
    "###############################################################################\n",
    "\n",
    "loans36_tmp = loans36[['issue_d_year','grade','paid_flg']].copy()\n",
    "\n",
    "loans36_tmp['default_flg'] = 1-loans36_tmp['paid_flg']\n",
    "loans36_tmp = loans36_tmp.drop('paid_flg',axis=1)\n",
    "\n",
    "loans36_tmp_gb = loans36_tmp.groupby(['issue_d_year','grade']).agg(['sum','count'])['default_flg']\n",
    "loans36_tmp_gb['def_perc'] = loans36_tmp_gb['sum']*1.0/loans36_tmp_gb['count']\n",
    "\n",
    "display(loans36_tmp_gb.sort_values('def_perc',ascending=False).head(50))\n",
    "\n",
    "#### Answer: The year/grade cohort — Year:2015 / Grade:G — has the highest rate of default (of 47.0%)"
   ]
  },
  {
   "cell_type": "code",
   "execution_count": 32,
   "metadata": {},
   "outputs": [
    {
     "name": "stdout",
     "output_type": "stream",
     "text": [
      "Unbucketed ARR: 0.026647115898971174\n",
      "2015/G ARR: -0.01629791078984033\n"
     ]
    },
    {
     "data": {
      "text/html": [
       "<div>\n",
       "<style scoped>\n",
       "    .dataframe tbody tr th:only-of-type {\n",
       "        vertical-align: middle;\n",
       "    }\n",
       "\n",
       "    .dataframe tbody tr th {\n",
       "        vertical-align: top;\n",
       "    }\n",
       "\n",
       "    .dataframe thead th {\n",
       "        text-align: right;\n",
       "    }\n",
       "</style>\n",
       "<table border=\"1\" class=\"dataframe\">\n",
       "  <thead>\n",
       "    <tr style=\"text-align: right;\">\n",
       "      <th></th>\n",
       "      <th></th>\n",
       "      <th>total_pymnt</th>\n",
       "      <th>funded_amnt</th>\n",
       "      <th>arr</th>\n",
       "    </tr>\n",
       "    <tr>\n",
       "      <th>issue_d_year</th>\n",
       "      <th>grade</th>\n",
       "      <th></th>\n",
       "      <th></th>\n",
       "      <th></th>\n",
       "    </tr>\n",
       "  </thead>\n",
       "  <tbody>\n",
       "    <tr>\n",
       "      <td rowspan=\"5\" valign=\"top\">2007</td>\n",
       "      <td>A</td>\n",
       "      <td>3.717366e+05</td>\n",
       "      <td>340000</td>\n",
       "      <td>0.030193</td>\n",
       "    </tr>\n",
       "    <tr>\n",
       "      <td>B</td>\n",
       "      <td>7.105348e+05</td>\n",
       "      <td>685850</td>\n",
       "      <td>0.011856</td>\n",
       "    </tr>\n",
       "    <tr>\n",
       "      <td>C</td>\n",
       "      <td>1.108930e+06</td>\n",
       "      <td>1080750</td>\n",
       "      <td>0.008617</td>\n",
       "    </tr>\n",
       "    <tr>\n",
       "      <td>D</td>\n",
       "      <td>6.858957e+05</td>\n",
       "      <td>688250</td>\n",
       "      <td>-0.001142</td>\n",
       "    </tr>\n",
       "    <tr>\n",
       "      <td>E</td>\n",
       "      <td>6.697176e+05</td>\n",
       "      <td>688125</td>\n",
       "      <td>-0.008997</td>\n",
       "    </tr>\n",
       "    <tr>\n",
       "      <td>...</td>\n",
       "      <td>...</td>\n",
       "      <td>...</td>\n",
       "      <td>...</td>\n",
       "      <td>...</td>\n",
       "    </tr>\n",
       "    <tr>\n",
       "      <td rowspan=\"5\" valign=\"top\">2015</td>\n",
       "      <td>C</td>\n",
       "      <td>9.556816e+08</td>\n",
       "      <td>897570475</td>\n",
       "      <td>0.021131</td>\n",
       "    </tr>\n",
       "    <tr>\n",
       "      <td>D</td>\n",
       "      <td>4.100598e+08</td>\n",
       "      <td>391350075</td>\n",
       "      <td>0.015689</td>\n",
       "    </tr>\n",
       "    <tr>\n",
       "      <td>E</td>\n",
       "      <td>1.206900e+08</td>\n",
       "      <td>118441775</td>\n",
       "      <td>0.006288</td>\n",
       "    </tr>\n",
       "    <tr>\n",
       "      <td>F</td>\n",
       "      <td>1.377484e+07</td>\n",
       "      <td>14023850</td>\n",
       "      <td>-0.005954</td>\n",
       "    </tr>\n",
       "    <tr>\n",
       "      <td>G</td>\n",
       "      <td>2.271016e+06</td>\n",
       "      <td>2385775</td>\n",
       "      <td>-0.016298</td>\n",
       "    </tr>\n",
       "  </tbody>\n",
       "</table>\n",
       "<p>63 rows × 3 columns</p>\n",
       "</div>"
      ],
      "text/plain": [
       "                     total_pymnt  funded_amnt       arr\n",
       "issue_d_year grade                                     \n",
       "2007         A      3.717366e+05       340000  0.030193\n",
       "             B      7.105348e+05       685850  0.011856\n",
       "             C      1.108930e+06      1080750  0.008617\n",
       "             D      6.858957e+05       688250 -0.001142\n",
       "             E      6.697176e+05       688125 -0.008997\n",
       "...                          ...          ...       ...\n",
       "2015         C      9.556816e+08    897570475  0.021131\n",
       "             D      4.100598e+08    391350075  0.015689\n",
       "             E      1.206900e+08    118441775  0.006288\n",
       "             F      1.377484e+07     14023850 -0.005954\n",
       "             G      2.271016e+06      2385775 -0.016298\n",
       "\n",
       "[63 rows x 3 columns]"
      ]
     },
     "metadata": {},
     "output_type": "display_data"
    }
   ],
   "source": [
    "####################################################################################\n",
    "#### Pt.2 — Question 3: When bucketed by year of origination and grade, what    ####\n",
    "####                    annualized rate of return have these loans generated    ####\n",
    "####                    on average?                                             ####\n",
    "####                                                                            ####\n",
    "#### Using: Annualized rate of return = (total_pymnt / funded_amnt) ^ (1/3) - 1 ####\n",
    "####                                                                            ####\n",
    "####################################################################################\n",
    "\n",
    "#### Unbucketed:\n",
    "loans36_tmp_ub = loans36[['total_pymnt','funded_amnt']].copy().sum()\n",
    "print('Unbucketed ARR:',(loans36_tmp_ub['total_pymnt']/loans36_tmp_ub['funded_amnt'])**(1/3) - 1)\n",
    "#### Unbucketed Answer: ARR = 2.66%\n",
    "\n",
    "\n",
    "#### Year/Grade Bucket:\n",
    "loans36_tmp = loans36[['issue_d_year','grade','total_pymnt','funded_amnt']].copy()\n",
    "\n",
    "loans36_tmp_gb = loans36_tmp.groupby(['issue_d_year','grade']).sum()\n",
    "loans36_tmp_gb['arr'] = (loans36_tmp_gb['total_pymnt']/loans36_tmp_gb['funded_amnt'])**(1/3) - 1\n",
    "\n",
    "loans36_2015_G = loans36_tmp_gb.loc[('2015','G')]\n",
    "\n",
    "print('2015/G ARR:',loans36_2015_G['arr'])\n",
    "#### Year/Grade — 2015/G — Bucket Answer: ARR = -1.63%\n",
    "\n",
    "\n",
    "#### All Buckets:\n",
    "display(loans36_tmp_gb)"
   ]
  },
  {
   "cell_type": "code",
   "execution_count": 33,
   "metadata": {},
   "outputs": [],
   "source": [
    "##########################\n",
    "#### PART 3: Modeling ####\n",
    "##########################\n",
    "\n",
    "# Assumptions:\n",
    "# 1. Ability to invest in each loan independently\n",
    "# 2. Invest immediately following origination and hold 36 months (to maturity)\n",
    "# 3. All loan fields known upon origination are made available.\n",
    "#\n",
    "# 4. Funded amount is *not* known upon origination.\n",
    "# 5. Although revol_bal was assumed in Part 2 to be continuously updated, I'm assuming here that\n",
    "#    the revolving balanace at the start of the loan was equal to its present value.\n"
   ]
  },
  {
   "cell_type": "code",
   "execution_count": 34,
   "metadata": {},
   "outputs": [],
   "source": [
    "#### Build dataframe with input features, X, and output variable, y such that X only includes\n",
    "#### information known prior to loan origination.\n",
    "\n",
    "loans_36mod = loans36.copy()\n",
    "\n",
    "loans_36mod['total_debt'] = loans_36mod['dti']*loans_36mod['annual_inc']\n",
    "loans_36mod['loan_inc_ratio'] = loans_36mod['loan_amnt']*1.0/loans_36mod['annual_inc']\n",
    "\n",
    "\n",
    "prior_cols = ['loan_amnt','int_rate','grade_num','annual_inc',\n",
    "              'dti','revol_bal','issue_d_year','issue_d_month_num','issue_d_num',\n",
    "              \n",
    "              'total_debt', # New features starting in this section...\n",
    "              'loan_inc_ratio'\n",
    "             \n",
    "             ]\n",
    "\n",
    "eval_cols = ['total_pymnt']\n",
    "\n",
    "loans36_log = loans_36mod[prior_cols+eval_cols+['paid_flg']].copy().rename({'paid_flg':'y'},axis=1)"
   ]
  },
  {
   "cell_type": "code",
   "execution_count": 35,
   "metadata": {},
   "outputs": [
    {
     "data": {
      "text/html": [
       "<div>\n",
       "<style scoped>\n",
       "    .dataframe tbody tr th:only-of-type {\n",
       "        vertical-align: middle;\n",
       "    }\n",
       "\n",
       "    .dataframe tbody tr th {\n",
       "        vertical-align: top;\n",
       "    }\n",
       "\n",
       "    .dataframe thead th {\n",
       "        text-align: right;\n",
       "    }\n",
       "</style>\n",
       "<table border=\"1\" class=\"dataframe\">\n",
       "  <thead>\n",
       "    <tr style=\"text-align: right;\">\n",
       "      <th></th>\n",
       "      <th>loan_amnt</th>\n",
       "    </tr>\n",
       "    <tr>\n",
       "      <th>issue_d_num</th>\n",
       "      <th></th>\n",
       "    </tr>\n",
       "  </thead>\n",
       "  <tbody>\n",
       "    <tr>\n",
       "      <td>200706</td>\n",
       "      <td>0.000036</td>\n",
       "    </tr>\n",
       "    <tr>\n",
       "      <td>200707</td>\n",
       "      <td>0.000099</td>\n",
       "    </tr>\n",
       "    <tr>\n",
       "      <td>200708</td>\n",
       "      <td>0.000110</td>\n",
       "    </tr>\n",
       "    <tr>\n",
       "      <td>200709</td>\n",
       "      <td>0.000077</td>\n",
       "    </tr>\n",
       "    <tr>\n",
       "      <td>200710</td>\n",
       "      <td>0.000166</td>\n",
       "    </tr>\n",
       "    <tr>\n",
       "      <td>...</td>\n",
       "      <td>...</td>\n",
       "    </tr>\n",
       "    <tr>\n",
       "      <td>201508</td>\n",
       "      <td>0.038390</td>\n",
       "    </tr>\n",
       "    <tr>\n",
       "      <td>201509</td>\n",
       "      <td>0.030052</td>\n",
       "    </tr>\n",
       "    <tr>\n",
       "      <td>201510</td>\n",
       "      <td>0.053182</td>\n",
       "    </tr>\n",
       "    <tr>\n",
       "      <td>201511</td>\n",
       "      <td>0.040497</td>\n",
       "    </tr>\n",
       "    <tr>\n",
       "      <td>201512</td>\n",
       "      <td>0.048562</td>\n",
       "    </tr>\n",
       "  </tbody>\n",
       "</table>\n",
       "<p>103 rows × 1 columns</p>\n",
       "</div>"
      ],
      "text/plain": [
       "             loan_amnt\n",
       "issue_d_num           \n",
       "200706        0.000036\n",
       "200707        0.000099\n",
       "200708        0.000110\n",
       "200709        0.000077\n",
       "200710        0.000166\n",
       "...                ...\n",
       "201508        0.038390\n",
       "201509        0.030052\n",
       "201510        0.053182\n",
       "201511        0.040497\n",
       "201512        0.048562\n",
       "\n",
       "[103 rows x 1 columns]"
      ]
     },
     "execution_count": 35,
     "metadata": {},
     "output_type": "execute_result"
    }
   ],
   "source": [
    "### Using most recent data as test / cross validation data in order to avoid temporal bias in training data\n",
    "### since origination date is being included as a feature.\n",
    "\n",
    "a = loans36_log.groupby(['issue_d_num']).count()[['loan_amnt']]/loans36_log.count()[['loan_amnt']]\n",
    "a\n",
    "\n",
    "### Allocating 20% to cross validation, 20% to test. ~40% of data is included in 2015-03 thru 2015-12.\n",
    "### Using this for CV / Test data..."
   ]
  },
  {
   "cell_type": "code",
   "execution_count": 36,
   "metadata": {},
   "outputs": [],
   "source": [
    "#### Function for building training / cross validation / test data sets\n",
    "def built_train_cv_test(loans36_log,prior_cols,eval_cols):\n",
    "    \n",
    "    train_data = loans36_log[loans36_log['issue_d_num'] < 201503]\n",
    "    cv_test_data = loans36_log[loans36_log['issue_d_num'] >= 201503]\n",
    "\n",
    "    X_train = train_data[prior_cols+eval_cols].copy().drop('issue_d_num',axis=1)\n",
    "    y_train = train_data['y'].copy()\n",
    "\n",
    "    X_cv_test = cv_test_data[prior_cols+eval_cols].copy().drop('issue_d_num',axis=1)\n",
    "    y_cv_test = cv_test_data['y'].copy()\n",
    "\n",
    "    X_cv, X_test, y_cv, y_test = train_test_split(X_cv_test,y_cv_test,test_size=0.5)\n",
    "    \n",
    "    eval_train = X_train[eval_cols]\n",
    "    eval_cv = X_cv[eval_cols]\n",
    "    eval_test = X_test[eval_cols]\n",
    "    \n",
    "    X_train = X_train.drop(eval_cols,axis=1)\n",
    "    X_cv = X_cv.drop(eval_cols,axis=1)\n",
    "    X_test = X_test.drop(eval_cols,axis=1)\n",
    "\n",
    "    return X_train.reset_index(drop=True),X_cv.reset_index(drop=True),X_test.reset_index(drop=True), \\\n",
    "           y_train.reset_index(drop=True),y_cv.reset_index(drop=True),y_test.reset_index(drop=True), \\\n",
    "           eval_train.reset_index(drop=True), eval_cv.reset_index(drop=True), eval_test.reset_index(drop=True)"
   ]
  },
  {
   "cell_type": "code",
   "execution_count": 37,
   "metadata": {},
   "outputs": [],
   "source": [
    "#### Function for evaluating model's Annualized Rate of Return\n",
    "def calculate_arr(X,y,eval_,logistic_reg,thresh=0.9):\n",
    "    full_view = (X.join(y).join(pd.DataFrame(logreg.predict_proba(X)[:,1],columns=['prob'])).join(eval_)).copy()\n",
    "    full_view = full_view[full_view['prob'] >= thresh]\n",
    "    \n",
    "    full_view['individ_arr'] = (full_view['total_pymnt']/full_view['loan_amnt'])**(1/3) - 1\n",
    "    \n",
    "    fv_sum = full_view.sum()\n",
    "    \n",
    "    arr_out = (fv_sum['total_pymnt']/fv_sum['loan_amnt'])**(1/3) - 1\n",
    "    \n",
    "    print('>> ARR of Logistic Regression with Threshold:',thresh,'=',np.round(arr_out,decimals=4))\n",
    "    return arr_out"
   ]
  },
  {
   "cell_type": "code",
   "execution_count": 38,
   "metadata": {},
   "outputs": [
    {
     "name": "stdout",
     "output_type": "stream",
     "text": [
      "0.8661282929328336\n",
      "0.8486867532642122\n",
      "[1. 1. 1. ... 1. 1. 1.]\n",
      "\n",
      "(64210, 1)\n",
      "(54808, 1)\n",
      "\n",
      "(18022, 1)\n",
      "(100996, 1)\n"
     ]
    }
   ],
   "source": [
    "### Examining model results without using one-hot function\n",
    "\n",
    "X_train,X_cv,X_test, \\\n",
    "y_train,y_cv,y_test, \\\n",
    "eval_train,eval_cv,eval_test= built_train_cv_test(loans36_log,prior_cols,eval_cols)\n",
    "\n",
    "logreg = LogisticRegression(solver='lbfgs').fit(X_train,y_train)\n",
    "print(logreg.score(X_train,y_train))\n",
    "print(logreg.score(X_cv,y_cv))\n",
    "print(logreg.predict(X_test))\n",
    "print()\n",
    "\n",
    "a = pd.DataFrame(logreg.predict_proba(X_cv)[:,1])\n",
    "thresh = 0.9\n",
    "\n",
    "print(a[a[0] <= thresh].shape)\n",
    "print(a[a[0] > thresh].shape)\n",
    "print()\n",
    "b = pd.DataFrame(y_cv)\n",
    "print(b[b['y'] <= thresh].shape)\n",
    "print(b[b['y'] > thresh].shape)"
   ]
  },
  {
   "cell_type": "code",
   "execution_count": 39,
   "metadata": {},
   "outputs": [
    {
     "name": "stdout",
     "output_type": "stream",
     "text": [
      "0.86612290020762\n",
      "0.8490396410626964\n",
      "0.8480494710928507\n",
      "[[0.07391134 0.92608866]\n",
      " [0.1446409  0.8553591 ]\n",
      " [0.12374539 0.87625461]\n",
      " ...\n",
      " [0.17809473 0.82190527]\n",
      " [0.08495652 0.91504348]\n",
      " [0.12334572 0.87665428]]\n",
      "\n",
      "(63658, 1)\n",
      "(55360, 1)\n",
      "\n",
      "(17964, 1)\n",
      "(101054, 1)\n"
     ]
    }
   ],
   "source": [
    "#### VERY much overestimating likelihood of repayment\n",
    "# Trying now with one_hot for grade_num\n",
    "loans36_log_oh = loans36_log.copy()\n",
    "loans36_log_oh = pd.get_dummies(loans36_log_oh,columns=['grade_num'])\n",
    "\n",
    "prior_cols_oh = [_ for _ in loans36_log_oh.columns if _ != 'y' and _ not in eval_cols]\n",
    "\n",
    "X_train,X_cv,X_test, \\\n",
    "y_train,y_cv,y_test, \\\n",
    "eval_train,eval_cv,eval_test = built_train_cv_test(loans36_log_oh,prior_cols_oh,eval_cols)\n",
    "\n",
    "logreg = LogisticRegression(solver='lbfgs').fit(X_train,y_train)\n",
    "print(logreg.score(X_train,y_train))\n",
    "print(logreg.score(X_cv,y_cv))\n",
    "print(logreg.score(X_test,y_test))\n",
    "print(logreg.predict_proba(X_test))\n",
    "print()\n",
    "\n",
    "a = pd.DataFrame(logreg.predict_proba(X_cv)[:,1])\n",
    "\n",
    "thresh = 0.9\n",
    "\n",
    "print(a[a[0] <= thresh].shape)\n",
    "print(a[a[0] > thresh].shape)\n",
    "print()\n",
    "b = pd.DataFrame(y_cv)\n",
    "print(b[b['y'] <= thresh].shape)\n",
    "print(b[b['y'] > thresh].shape)"
   ]
  },
  {
   "cell_type": "code",
   "execution_count": null,
   "metadata": {},
   "outputs": [
    {
     "name": "stdout",
     "output_type": "stream",
     "text": [
      "Blindly investing in 03-2015 - 12-2015 gives ARR of: 0.0207\n",
      "\n",
      "Threshold: 0.5\n",
      ">> Dataset: train\n",
      ">> ARR of Logistic Regression with Threshold: 0.5 = 0.0303\n",
      "\n",
      ">> Dataset: cv\n",
      ">> ARR of Logistic Regression with Threshold: 0.5 = 0.0207\n",
      "\n",
      "Threshold: 0.6\n",
      ">> Dataset: train\n",
      ">> ARR of Logistic Regression with Threshold: 0.6 = 0.0303\n",
      "\n",
      ">> Dataset: cv\n",
      ">> ARR of Logistic Regression with Threshold: 0.6 = 0.0208\n",
      "\n",
      "Threshold: 0.7\n",
      ">> Dataset: train\n",
      ">> ARR of Logistic Regression with Threshold: 0.7 = 0.0303\n",
      "\n",
      ">> Dataset: cv\n",
      ">> ARR of Logistic Regression with Threshold: 0.7 = 0.021\n",
      "\n",
      "Threshold: 0.8\n",
      ">> Dataset: train\n"
     ]
    }
   ],
   "source": [
    "tmp = loans36_log[loans36_log['issue_d_num'] >= 201503].sum()\n",
    "print('Blindly investing in 03-2015 - 12-2015 gives ARR of:',np.round((tmp['total_pymnt']/tmp['loan_amnt'])**(1/3) - 1,decimals=4))\n",
    "print()\n",
    "\n",
    "best_arr = 0.0\n",
    "best_thresh = 0.0\n",
    "\n",
    "for thresh in [0.5,0.6,0.7,0.8,0.9,0.95,0.96,0.97,0.98]:\n",
    "    print('Threshold:',thresh)\n",
    "    for v,X,y,ev in [('train',X_train,y_train,eval_train),\n",
    "                   ('cv',X_cv,y_cv,eval_cv)]:\n",
    "        print('>> Dataset:',v)\n",
    "        arr_tmp = calculate_arr(X,y,ev,logreg,thresh=thresh)\n",
    "        if v == 'cv' and arr_tmp >= best_arr:\n",
    "            best_thresh = thresh\n",
    "        print()\n",
    "\n",
    "print('Best thresh =',best_thresh,'with ARR...')\n",
    "calculate_arr(X_test,y_test,eval_test,logreg,thresh=best_thresh)"
   ]
  },
  {
   "cell_type": "code",
   "execution_count": null,
   "metadata": {},
   "outputs": [],
   "source": [
    "#######################################################\n",
    "#### What percentage of loans has been fully paid? ####\n",
    "#######################################################\n",
    "print('% of loans fully paid:',y_test[(X_test['issue_d_month_num'] >= 3)&(X_test['issue_d_year'] >= '2015')].sum()*1.0/y_test[(X_test['issue_d_month_num'] >= 3)&(X_test['issue_d_year'] >= '2015')].count())\n",
    "\n",
    "#### Answer: 85.9%"
   ]
  },
  {
   "cell_type": "code",
   "execution_count": null,
   "metadata": {},
   "outputs": [],
   "source": []
  },
  {
   "cell_type": "code",
   "execution_count": null,
   "metadata": {},
   "outputs": [],
   "source": []
  },
  {
   "cell_type": "code",
   "execution_count": null,
   "metadata": {},
   "outputs": [],
   "source": []
  }
 ],
 "metadata": {
  "kernelspec": {
   "display_name": "Python 3",
   "language": "python",
   "name": "python3"
  },
  "language_info": {
   "codemirror_mode": {
    "name": "ipython",
    "version": 3
   },
   "file_extension": ".py",
   "mimetype": "text/x-python",
   "name": "python",
   "nbconvert_exporter": "python",
   "pygments_lexer": "ipython3",
   "version": "3.6.9"
  }
 },
 "nbformat": 4,
 "nbformat_minor": 2
}
